{
 "cells": [
  {
   "cell_type": "markdown",
   "id": "1c14d3ba-0c90-437b-9576-5af44406a9fe",
   "metadata": {},
   "source": [
    "# ⚖️ Agentic Legal Assistant Demo\n",
    "\n",
    "This notebook demonstrates how to use an agentic RAG pipeline built with LangGraph + LangChain to ask questions about a legal contract PDF."
   ]
  },
  {
   "cell_type": "markdown",
   "id": "485b9e8e-e2fc-46b7-8c2b-084190abcb31",
   "metadata": {},
   "source": [
    "---\n",
    "\n",
    "### 🟩 **Install**"
   ]
  },
  {
   "cell_type": "code",
   "execution_count": 30,
   "id": "0c23ec51-a764-4242-aa6f-add8f1a96a64",
   "metadata": {},
   "outputs": [],
   "source": [
    "#!pip install langchain langgraph langchain-openai langchain-huggingface chromadb ipywidgets tqdm"
   ]
  },
  {
   "cell_type": "markdown",
   "id": "996c4df9-1894-4361-b8f8-adacd7716ee6",
   "metadata": {},
   "source": [
    "---\n",
    "\n",
    "### 🟩 **Load PDF**"
   ]
  },
  {
   "cell_type": "code",
   "execution_count": 18,
   "id": "851da22c-bdc3-4f7c-a331-2c095e3d20be",
   "metadata": {},
   "outputs": [
    {
     "name": "stdout",
     "output_type": "stream",
     "text": [
      "Loaded 2 pages\n",
      "SAMPLE CONTRACT  \n",
      " \n",
      "SERVICE AGREEMENT \n",
      "This Service Agreement (\"Agreement\") is entered into on July 7, 2025, by and between: \n",
      "Client: ABC Corporation \n",
      "Contractor: Jane Doe Consulting LLC \n",
      " \n",
      "1. Services Provided \n",
      "Contractor shall provide data analytics and reporting services as requested by Client. \n",
      " \n",
      "2. Term \n",
      "This Agreement begins on the effective date and continues until either party provides 30 days \n",
      "written notice of termination. \n",
      " \n",
      "3. Termination \n",
      "This contract may be terminated: \n",
      "• By either party for any reason with 30 days’ notice. \n",
      "• Immediately by either party in the event of material breach. \n",
      " \n",
      "4. Payment \n",
      "Client agrees to pay Contractor $10,000 per month, invoiced on the 1st of each month. \n",
      " \n",
      "5. Confidentiality \n",
      "All data and materials provided by Client shall remain confidential.\n"
     ]
    }
   ],
   "source": [
    "from langchain.document_loaders import PyPDFLoader\n",
    "\n",
    "loader = PyPDFLoader(\"contracts/sample_contract.pdf\")\n",
    "docs = loader.load()\n",
    "\n",
    "print(f\"Loaded {len(docs)} pages\")\n",
    "print(docs[0].page_content[:1000])"
   ]
  },
  {
   "cell_type": "markdown",
   "id": "b00939de-7257-48b4-b24a-fab770e5146d",
   "metadata": {},
   "source": [
    "---\n",
    "\n",
    "### 🟩 Embed & Index**"
   ]
  },
  {
   "cell_type": "code",
   "execution_count": 21,
   "id": "e01f72ac-44e2-45d0-a851-cea5cc1df1d8",
   "metadata": {},
   "outputs": [],
   "source": [
    "from langchain_huggingface import HuggingFaceEmbeddings\n",
    "from langchain.vectorstores import Chroma\n",
    "\n",
    "embedding = HuggingFaceEmbeddings(model_name=\"all-MiniLM-L6-v2\")\n",
    "vectorstore = Chroma.from_documents(docs, embedding=embedding)\n",
    "retriever = vectorstore.as_retriever()\n"
   ]
  },
  {
   "cell_type": "markdown",
   "id": "24744b87-3384-4d3f-8326-23010023c95c",
   "metadata": {},
   "source": [
    "---\n",
    "\n",
    "### 🟩 **Setup LLM and RAG Chain**"
   ]
  },
  {
   "cell_type": "code",
   "execution_count": 23,
   "id": "b5ca70cf-385d-49a5-b5d5-60d2f80a8ebc",
   "metadata": {},
   "outputs": [],
   "source": [
    "from langchain_openai import ChatOpenAI\n",
    "from langchain.chains import ConversationalRetrievalChain\n",
    "\n",
    "llm = ChatOpenAI(temperature=0)\n",
    "qa_chain = ConversationalRetrievalChain.from_llm(llm=llm, retriever=retriever)\n"
   ]
  },
  {
   "cell_type": "markdown",
   "id": "1fb073c7-88ef-4823-97e6-054dc6caa99f",
   "metadata": {},
   "source": [
    "---\n",
    "\n",
    "### 🟩 **Ask a Question**"
   ]
  },
  {
   "cell_type": "code",
   "execution_count": 25,
   "id": "f6d683bf-4e30-45b5-a314-ab2c89a299c2",
   "metadata": {},
   "outputs": [
    {
     "name": "stdout",
     "output_type": "stream",
     "text": [
      "Answer: Yes, this contract does include a termination clause. It states that the contract may be terminated by either party for any reason with 30 days' notice, or immediately by either party in the event of a material breach.\n"
     ]
    }
   ],
   "source": [
    "chat_history = []\n",
    "\n",
    "question = \"Does this contract include a termination clause?\"\n",
    "result = qa_chain.invoke({\"question\": question, \"chat_history\": chat_history})\n",
    "chat_history.append((question, result[\"answer\"]))\n",
    "\n",
    "print(\"Answer:\", result[\"answer\"])"
   ]
  },
  {
   "cell_type": "markdown",
   "id": "01947e29-3be5-4187-bd55-0115221ccadf",
   "metadata": {},
   "source": [
    "---\n",
    "\n",
    "### 🟩 **Save Q\\&A Log**"
   ]
  },
  {
   "cell_type": "code",
   "execution_count": 32,
   "id": "b6c64ff7-435b-4f28-a0a5-a9824e76517a",
   "metadata": {},
   "outputs": [],
   "source": [
    "import json\n",
    "from datetime import datetime\n",
    "\n",
    "qa_log = [{\"timestamp\": datetime.now().isoformat(), \"question\": q, \"answer\": a} for q, a in chat_history]\n",
    "with open(\"outputs/qa_log.jsonl\", \"w\") as f:\n",
    "    for entry in qa_log:\n",
    "        f.write(json.dumps(entry) + \"\\n\")"
   ]
  }
 ],
 "metadata": {
  "kernelspec": {
   "display_name": "Python [conda env:agentic_ai_env]",
   "language": "python",
   "name": "conda-env-agentic_ai_env-py"
  },
  "language_info": {
   "codemirror_mode": {
    "name": "ipython",
    "version": 3
   },
   "file_extension": ".py",
   "mimetype": "text/x-python",
   "name": "python",
   "nbconvert_exporter": "python",
   "pygments_lexer": "ipython3",
   "version": "3.10.18"
  }
 },
 "nbformat": 4,
 "nbformat_minor": 5
}
